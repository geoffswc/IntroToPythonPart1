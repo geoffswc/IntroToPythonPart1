{
 "cells": [
  {
   "cell_type": "code",
   "execution_count": 1,
   "id": "84e57903",
   "metadata": {},
   "outputs": [],
   "source": [
    "# Conditionals - How can programs do different things for different data?"
   ]
  },
  {
   "cell_type": "code",
   "execution_count": 2,
   "id": "cdec6ad9",
   "metadata": {},
   "outputs": [],
   "source": [
    "# Objectives\n",
    "#    Correctly write programs that use if and else statements and simple Boolean expressions (without logical operators).\n",
    "#    Trace the execution of unnested conditionals and conditionals inside loops."
   ]
  },
  {
   "cell_type": "code",
   "execution_count": 3,
   "id": "8eea8d38",
   "metadata": {},
   "outputs": [],
   "source": [
    "# single variable case\n",
    "systolic = 125\n",
    "diastolic = 85"
   ]
  },
  {
   "cell_type": "code",
   "execution_count": 4,
   "id": "de565763",
   "metadata": {},
   "outputs": [],
   "source": [
    "# a boolean value tells you if a condition is false or true"
   ]
  },
  {
   "cell_type": "code",
   "execution_count": 5,
   "id": "4f9b313d",
   "metadata": {},
   "outputs": [
    {
     "data": {
      "text/plain": [
       "True"
      ]
     },
     "execution_count": 5,
     "metadata": {},
     "output_type": "execute_result"
    }
   ],
   "source": [
    "systolic > 120\n",
    "# also try \n",
    "# systolic < 120\n",
    "# systolic == 120\n",
    "# systolic <= 120"
   ]
  },
  {
   "cell_type": "code",
   "execution_count": 6,
   "id": "72a8ee2c",
   "metadata": {},
   "outputs": [],
   "source": [
    "# a boolean variable is a variable that can hold only a True or False value"
   ]
  },
  {
   "cell_type": "code",
   "execution_count": 7,
   "id": "b8536f80",
   "metadata": {},
   "outputs": [],
   "source": [
    "pre_hypertensive = systolic > 120"
   ]
  },
  {
   "cell_type": "code",
   "execution_count": 8,
   "id": "d4cacd59",
   "metadata": {},
   "outputs": [
    {
     "name": "stdout",
     "output_type": "stream",
     "text": [
      "True\n"
     ]
    }
   ],
   "source": [
    "print(pre_hypertensive)"
   ]
  },
  {
   "cell_type": "code",
   "execution_count": 9,
   "id": "e90cf35d",
   "metadata": {},
   "outputs": [
    {
     "data": {
      "text/plain": [
       "bool"
      ]
     },
     "execution_count": 9,
     "metadata": {},
     "output_type": "execute_result"
    }
   ],
   "source": [
    "type(pre_hypertensive)"
   ]
  },
  {
   "cell_type": "code",
   "execution_count": 10,
   "id": "d3953882",
   "metadata": {},
   "outputs": [],
   "source": [
    "# we can use boolean expressions to control what a program does under different conditions"
   ]
  },
  {
   "cell_type": "code",
   "execution_count": 11,
   "id": "43920ef5",
   "metadata": {},
   "outputs": [
    {
     "name": "stdout",
     "output_type": "stream",
     "text": [
      "pre-hypertension\n"
     ]
    }
   ],
   "source": [
    "systolic = 125\n",
    "if systolic > 120:\n",
    "    print('pre-hypertension')"
   ]
  },
  {
   "cell_type": "code",
   "execution_count": 12,
   "id": "db9039e3",
   "metadata": {},
   "outputs": [
    {
     "name": "stdout",
     "output_type": "stream",
     "text": [
      "pre-hypertension\n"
     ]
    }
   ],
   "source": [
    "systolic = 125\n",
    "pre_hypertensive = systolic > 120\n",
    "if pre_hypertensive:\n",
    "    print('pre-hypertension')"
   ]
  },
  {
   "cell_type": "code",
   "execution_count": 13,
   "id": "56c5f026",
   "metadata": {},
   "outputs": [
    {
     "name": "stdout",
     "output_type": "stream",
     "text": [
      "pre-hypertension\n"
     ]
    }
   ],
   "source": [
    "# we can also establish more than one condition. \n",
    "# we can use an else clause to set a default behavior\n",
    "systolic = 125\n",
    "if systolic > 120:\n",
    "    print('pre-hypertension')\n",
    "else:\n",
    "    print('normal range')"
   ]
  },
  {
   "cell_type": "code",
   "execution_count": 14,
   "id": "94cace0b",
   "metadata": {},
   "outputs": [
    {
     "name": "stdout",
     "output_type": "stream",
     "text": [
      "pre-hypertension\n"
     ]
    }
   ],
   "source": [
    "# what if we have multiple conditions we'd like to apply? \n",
    "# we might want to test for different categories of hypertension\n",
    "# or we might want to test for low blood pressure\n",
    "\n",
    "systolic = 125\n",
    "if systolic > 140:\n",
    "    print(\"Stage 2 hypertension\")\n",
    "elif systolic > 130:\n",
    "    print(\"State 1 hypertension\")\n",
    "elif systolic > 120:\n",
    "    print('pre-hypertension')\n",
    "else:\n",
    "    print('normal range')"
   ]
  },
  {
   "cell_type": "code",
   "execution_count": 15,
   "id": "ffea73cc",
   "metadata": {},
   "outputs": [],
   "source": [
    "# things to think about"
   ]
  },
  {
   "cell_type": "code",
   "execution_count": 16,
   "id": "bd381bcc",
   "metadata": {},
   "outputs": [
    {
     "name": "stdout",
     "output_type": "stream",
     "text": [
      "pre-hypertension\n"
     ]
    }
   ],
   "source": [
    "# be careful about unreachable conditions! \n",
    "# the code below has a frustrating bug - and python won't catch it for you!\n",
    "# how would you fix this?\n",
    "\n",
    "systolic = 135\n",
    "if systolic > 120:\n",
    "    print('pre-hypertension')\n",
    "elif systolic > 130:\n",
    "    print(\"Stage 1 hypertension\")\n",
    "else:\n",
    "    print('normal range')"
   ]
  },
  {
   "cell_type": "code",
   "execution_count": 17,
   "id": "b6d00465",
   "metadata": {},
   "outputs": [],
   "source": [
    "# a series of if statements, compared to a series of if-elif statements"
   ]
  },
  {
   "cell_type": "code",
   "execution_count": 18,
   "id": "847ac244",
   "metadata": {},
   "outputs": [
    {
     "name": "stdout",
     "output_type": "stream",
     "text": [
      "Stage 2 hypertension\n",
      "State 1 hypertension\n",
      "pre-hypertension\n"
     ]
    }
   ],
   "source": [
    "# what will this code do? How does it differ from if-elif.\n",
    "# can you think of a scenario when you might prefer a series of if statements?\n",
    "# (for example, would treatment)\n",
    "\n",
    "systolic = 145\n",
    "if systolic > 140:\n",
    "    print(\"Stage 2 hypertension\")\n",
    "if systolic > 130:\n",
    "    print(\"State 1 hypertension\")\n",
    "if systolic > 120:\n",
    "    print('pre-hypertension')\n",
    "if systolic <= 120:\n",
    "    print('normal range')"
   ]
  },
  {
   "cell_type": "code",
   "execution_count": 19,
   "id": "fab64d28",
   "metadata": {},
   "outputs": [
    {
     "name": "stdout",
     "output_type": "stream",
     "text": [
      "pre-hypertension\n"
     ]
    }
   ],
   "source": [
    "# Compound Conditionals\n",
    "#    you can use more than one boolean statement in a conditional\n",
    "\n",
    "systolic = 130\n",
    "diastolic = 85\n",
    "\n",
    "if systolic > 130 or diastolic > 80:\n",
    "    print(\"pre-hypertension\")"
   ]
  },
  {
   "cell_type": "code",
   "execution_count": 20,
   "id": "7b0241ec",
   "metadata": {},
   "outputs": [
    {
     "name": "stdout",
     "output_type": "stream",
     "text": [
      "hypertension\n"
     ]
    }
   ],
   "source": [
    "# nested conditionals\n",
    "# as your conditionals get more complicated, you may want to nest them using parentheses\n",
    "# for example, you might want to check to see if certain combinations of systolic and diastolic are present\n",
    "\n",
    "systolic = 135\n",
    "diastolic = 81\n",
    "\n",
    "if systolic > 140 or diastolic > 90 or (systolic > 130 and diastolic > 80):\n",
    "    print(\"hypertension\")\n"
   ]
  },
  {
   "cell_type": "code",
   "execution_count": 21,
   "id": "962cbb8f",
   "metadata": {},
   "outputs": [],
   "source": [
    "# exercise\n",
    "# how would you implement the diagnostic table here?\n",
    "# https://www.mayoclinic.org/diseases-conditions/high-blood-pressure/diagnosis-treatment/drc-20373417"
   ]
  },
  {
   "cell_type": "code",
   "execution_count": 22,
   "id": "3dd38a42",
   "metadata": {},
   "outputs": [
    {
     "name": "stdout",
     "output_type": "stream",
     "text": [
      "log:  131 58\n"
     ]
    }
   ],
   "source": [
    "# parentheses can be very helpful here, especially when you're mixing and with or\n",
    "# suppose we want to log uneven readings, where one is above range and one is below range\n",
    "\n",
    "# https://www.mayoclinic.org/diseases-conditions/low-blood-pressure/symptoms-causes/syc-20355465\n",
    "\n",
    "systolic = 131\n",
    "diastolic = 58\n",
    "\n",
    "# also try:\n",
    "# systolic = 120\n",
    "# diastolic = 58\n",
    "\n",
    "if (systolic > 130 or diastolic > 90) and (systolic < 90 or diastolic < 60):\n",
    "    print(\"log: \", systolic, diastolic)"
   ]
  },
  {
   "cell_type": "code",
   "execution_count": 23,
   "id": "19a2cd0b",
   "metadata": {},
   "outputs": [
    {
     "name": "stdout",
     "output_type": "stream",
     "text": [
      "log:  120 58\n"
     ]
    }
   ],
   "source": [
    "# what happens when we remove the parantheses?\n",
    "systolic = 131\n",
    "diastolic = 58\n",
    "\n",
    "# also try:\n",
    "systolic = 120\n",
    "diastolic = 58\n",
    "\n",
    "if systolic > 130 or diastolic > 90 and systolic < 90 or diastolic < 60:\n",
    "    print(\"log: \", systolic, diastolic)"
   ]
  },
  {
   "cell_type": "code",
   "execution_count": null,
   "id": "cb83be4e",
   "metadata": {},
   "outputs": [],
   "source": []
  }
 ],
 "metadata": {
  "kernelspec": {
   "display_name": "Python 3 (ipykernel)",
   "language": "python",
   "name": "python3"
  },
  "language_info": {
   "codemirror_mode": {
    "name": "ipython",
    "version": 3
   },
   "file_extension": ".py",
   "mimetype": "text/x-python",
   "name": "python",
   "nbconvert_exporter": "python",
   "pygments_lexer": "ipython3",
   "version": "3.9.7"
  }
 },
 "nbformat": 4,
 "nbformat_minor": 5
}
