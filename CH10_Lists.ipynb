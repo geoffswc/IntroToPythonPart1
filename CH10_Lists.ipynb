{
 "cells": [
  {
   "cell_type": "code",
   "execution_count": 1,
   "id": "33d67baf",
   "metadata": {},
   "outputs": [],
   "source": [
    "# CH 7: Reading Tabular Data into DataFrames"
   ]
  },
  {
   "cell_type": "code",
   "execution_count": 2,
   "id": "f55e5dac",
   "metadata": {},
   "outputs": [],
   "source": [
    "# Objectives:# \n",
    "#    Explain why programs need collections of values.\n",
    "#    Write programs that create flat lists, index them, slice them, \n",
    "#    and modify them through assignment and method calls."
   ]
  },
  {
   "cell_type": "code",
   "execution_count": 3,
   "id": "20ab442e",
   "metadata": {},
   "outputs": [],
   "source": [
    "# In CH 13, we reviewed conditionals with a single variable. \n",
    "# What if we were trying to classify or identify patients out of a \n",
    "# much larger data set of several thousand patients?\n",
    "# this would be easier if we had a list of 1000 elements"
   ]
  },
  {
   "cell_type": "code",
   "execution_count": 4,
   "id": "16816725",
   "metadata": {},
   "outputs": [],
   "source": [
    "systolic = [130, 120, 115, 125, 88, 118, 140, 160, 138, 110]"
   ]
  },
  {
   "cell_type": "code",
   "execution_count": 5,
   "id": "e6c26a56",
   "metadata": {},
   "outputs": [
    {
     "data": {
      "text/plain": [
       "10"
      ]
     },
     "execution_count": 5,
     "metadata": {},
     "output_type": "execute_result"
    }
   ],
   "source": [
    "# to get the length of a list, use len(), like we did with strings earlier\n",
    "len(systolic)"
   ]
  },
  {
   "cell_type": "code",
   "execution_count": 6,
   "id": "9cd679aa",
   "metadata": {},
   "outputs": [],
   "source": [
    "# to get a single element, use the index.\n",
    "# python (and most programming languages) count from zero\n",
    "# so the first element of the list will have index zero"
   ]
  },
  {
   "cell_type": "code",
   "execution_count": 7,
   "id": "a5929e8e",
   "metadata": {},
   "outputs": [
    {
     "data": {
      "text/plain": [
       "130"
      ]
     },
     "execution_count": 7,
     "metadata": {},
     "output_type": "execute_result"
    }
   ],
   "source": [
    "systolic[0]"
   ]
  },
  {
   "cell_type": "code",
   "execution_count": 8,
   "id": "543f4b13",
   "metadata": {},
   "outputs": [
    {
     "data": {
      "text/plain": [
       "88"
      ]
     },
     "execution_count": 8,
     "metadata": {},
     "output_type": "execute_result"
    }
   ],
   "source": [
    "# the fift element will have index 4 (count 0, 1, 2, 3, 4)\n",
    "systolic[4]"
   ]
  },
  {
   "cell_type": "code",
   "execution_count": 9,
   "id": "7c17848d",
   "metadata": {},
   "outputs": [],
   "source": [
    "# list slicing\n",
    "# you can retrieve a subsection of a list from one index to another."
   ]
  },
  {
   "cell_type": "code",
   "execution_count": 10,
   "id": "65b009ef",
   "metadata": {},
   "outputs": [
    {
     "data": {
      "text/plain": [
       "[115, 125, 88, 118]"
      ]
     },
     "execution_count": 10,
     "metadata": {},
     "output_type": "execute_result"
    }
   ],
   "source": [
    "# notice this is from the first element to the second,. *to*, not *through*. \n",
    "# we will retrieve element 2, 3, 4, 5... but not element 6\n",
    "systolic[2:6]"
   ]
  },
  {
   "cell_type": "code",
   "execution_count": 11,
   "id": "841fa2aa",
   "metadata": {},
   "outputs": [
    {
     "data": {
      "text/plain": [
       "[130, 120, 115, 125]"
      ]
     },
     "execution_count": 11,
     "metadata": {},
     "output_type": "execute_result"
    }
   ],
   "source": [
    "# to go from the beginning, you can use 0 or just leave it blank\n",
    "systolic[:4]"
   ]
  },
  {
   "cell_type": "code",
   "execution_count": 12,
   "id": "8dbe59cb",
   "metadata": {},
   "outputs": [
    {
     "data": {
      "text/plain": [
       "[115, 125, 88, 118, 140, 160, 138, 110]"
      ]
     },
     "execution_count": 12,
     "metadata": {},
     "output_type": "execute_result"
    }
   ],
   "source": [
    "# same for the end\n",
    "systolic[2:]"
   ]
  },
  {
   "cell_type": "code",
   "execution_count": 13,
   "id": "f367a026",
   "metadata": {},
   "outputs": [],
   "source": [
    "# you can also count backwards. -1 means the first element from the end of the list. there is no -0 ;) "
   ]
  },
  {
   "cell_type": "code",
   "execution_count": 14,
   "id": "b2b47cc6",
   "metadata": {},
   "outputs": [
    {
     "data": {
      "text/plain": [
       "110"
      ]
     },
     "execution_count": 14,
     "metadata": {},
     "output_type": "execute_result"
    }
   ],
   "source": [
    "systolic[-1]"
   ]
  },
  {
   "cell_type": "code",
   "execution_count": 15,
   "id": "a4ea54b9",
   "metadata": {},
   "outputs": [
    {
     "data": {
      "text/plain": [
       "138"
      ]
     },
     "execution_count": 15,
     "metadata": {},
     "output_type": "execute_result"
    }
   ],
   "source": [
    "systolic[-2]"
   ]
  },
  {
   "cell_type": "code",
   "execution_count": 16,
   "id": "e0a1edea",
   "metadata": {},
   "outputs": [
    {
     "data": {
      "text/plain": [
       "[115, 125, 88, 118, 140, 160]"
      ]
     },
     "execution_count": 16,
     "metadata": {},
     "output_type": "execute_result"
    }
   ],
   "source": [
    "# and you can use these elements together to get a subsection of your list\n",
    "systolic[2:-2]"
   ]
  },
  {
   "cell_type": "code",
   "execution_count": 17,
   "id": "07bdd8eb",
   "metadata": {},
   "outputs": [],
   "source": [
    "# removing from and adding to a list\n",
    "# to remove an element from a list"
   ]
  },
  {
   "cell_type": "code",
   "execution_count": 18,
   "id": "a1b691b6",
   "metadata": {},
   "outputs": [
    {
     "name": "stdout",
     "output_type": "stream",
     "text": [
      "11\n",
      "[130, 120, 115, 125, 88, 118, 140, 160, 138, 110, 151]\n"
     ]
    }
   ],
   "source": [
    "# adding to a list\n",
    "# appending\n",
    "systolic.append(151)\n",
    "print(len(systolic))\n",
    "print(systolic)"
   ]
  },
  {
   "cell_type": "code",
   "execution_count": 19,
   "id": "cb389e3b",
   "metadata": {},
   "outputs": [
    {
     "name": "stdout",
     "output_type": "stream",
     "text": [
      "151\n",
      "110\n"
     ]
    }
   ],
   "source": [
    "print(systolic[10])\n",
    "del systolic[10]\n",
    "#print(systolic[10])\n",
    "print(systolic[9])"
   ]
  },
  {
   "cell_type": "code",
   "execution_count": 20,
   "id": "ef204f1a",
   "metadata": {},
   "outputs": [
    {
     "name": "stdout",
     "output_type": "stream",
     "text": [
      "[130, 120, 115, 125, 88, 118, 140, 160, 138, 110]\n",
      "[130, 120, 115, 125, 88, 118, 140, 88, 160, 138, 110]\n"
     ]
    }
   ],
   "source": [
    "# you can also insert an element at a specific index\n",
    "print(systolic)\n",
    "systolic.insert(7,88)\n",
    "print(systolic)"
   ]
  },
  {
   "cell_type": "code",
   "execution_count": 21,
   "id": "4c8f5af3",
   "metadata": {},
   "outputs": [
    {
     "name": "stdout",
     "output_type": "stream",
     "text": [
      "[130, 120, 115, 125, 88, 118, 140, 160, 138, 110]\n"
     ]
    }
   ],
   "source": [
    "del systolic[7]\n",
    "print(systolic)"
   ]
  },
  {
   "cell_type": "code",
   "execution_count": 22,
   "id": "5f2ff30d",
   "metadata": {},
   "outputs": [],
   "source": [
    "# Strings and Lists\n",
    "\n",
    "# you can access the characters in a string the same way you can access elements in a list\n",
    "# but strings are immutable (more on that in a moment)"
   ]
  },
  {
   "cell_type": "code",
   "execution_count": 23,
   "id": "53ca2fe4",
   "metadata": {},
   "outputs": [],
   "source": [
    "reading_type = \"systolic\""
   ]
  },
  {
   "cell_type": "code",
   "execution_count": 24,
   "id": "62825476",
   "metadata": {},
   "outputs": [
    {
     "data": {
      "text/plain": [
       "8"
      ]
     },
     "execution_count": 24,
     "metadata": {},
     "output_type": "execute_result"
    }
   ],
   "source": [
    "len(reading_type)"
   ]
  },
  {
   "cell_type": "code",
   "execution_count": 25,
   "id": "f855fccb",
   "metadata": {},
   "outputs": [
    {
     "data": {
      "text/plain": [
       "'sto'"
      ]
     },
     "execution_count": 25,
     "metadata": {},
     "output_type": "execute_result"
    }
   ],
   "source": [
    "reading_type[2:5]"
   ]
  },
  {
   "cell_type": "code",
   "execution_count": 26,
   "id": "62efd321",
   "metadata": {},
   "outputs": [
    {
     "data": {
      "text/plain": [
       "'lic'"
      ]
     },
     "execution_count": 26,
     "metadata": {},
     "output_type": "execute_result"
    }
   ],
   "source": [
    "reading_type[-3:]"
   ]
  },
  {
   "cell_type": "code",
   "execution_count": 27,
   "id": "8e4f7b72",
   "metadata": {},
   "outputs": [],
   "source": [
    "# so how are strings and lists different?\n",
    "# strings are immutable, meaning they can't be altered, only replaced\n",
    "# lists can be altered."
   ]
  },
  {
   "cell_type": "code",
   "execution_count": 28,
   "id": "d8abb3f1",
   "metadata": {},
   "outputs": [
    {
     "name": "stdout",
     "output_type": "stream",
     "text": [
      "88\n",
      "122\n"
     ]
    }
   ],
   "source": [
    "# let's say the fifth systolic reading was an error, someone accidentally entered the diastolic reading of 88\n",
    "# when the systolic was 122. Lists are mutable, so we can change that element\n",
    "# remember, the fifth reading is index 4!\n",
    "\n",
    "print(systolic[4])\n",
    "systolic[4] = 122\n",
    "print(systolic[4])"
   ]
  },
  {
   "cell_type": "code",
   "execution_count": 29,
   "id": "3bc8df18",
   "metadata": {},
   "outputs": [
    {
     "ename": "TypeError",
     "evalue": "'str' object does not support item assignment",
     "output_type": "error",
     "traceback": [
      "\u001b[0;31m---------------------------------------------------------------------------\u001b[0m",
      "\u001b[0;31mTypeError\u001b[0m                                 Traceback (most recent call last)",
      "\u001b[0;32m/var/folders/wp/8493czf93l34d7c5ky14j7pr0000gp/T/ipykernel_1829/3282703329.py\u001b[0m in \u001b[0;36m<module>\u001b[0;34m\u001b[0m\n\u001b[1;32m      2\u001b[0m \u001b[0;31m# Let's try to replace a single character.\u001b[0m\u001b[0;34m\u001b[0m\u001b[0;34m\u001b[0m\u001b[0m\n\u001b[1;32m      3\u001b[0m \u001b[0;31m# We get an error message. You have to replace the entire string to change one character.\u001b[0m\u001b[0;34m\u001b[0m\u001b[0;34m\u001b[0m\u001b[0m\n\u001b[0;32m----> 4\u001b[0;31m \u001b[0mreading_type\u001b[0m\u001b[0;34m[\u001b[0m\u001b[0;36m4\u001b[0m\u001b[0;34m]\u001b[0m \u001b[0;34m=\u001b[0m \u001b[0;34m'z'\u001b[0m\u001b[0;34m\u001b[0m\u001b[0;34m\u001b[0m\u001b[0m\n\u001b[0m",
      "\u001b[0;31mTypeError\u001b[0m: 'str' object does not support item assignment"
     ]
    }
   ],
   "source": [
    "# you can't do this with a string.\n",
    "# Let's try to replace a single character.\n",
    "# We get an error message. You have to replace the entire string to change one character. \n",
    "reading_type[4] = 'z'"
   ]
  },
  {
   "cell_type": "code",
   "execution_count": 30,
   "id": "2cf7ed0c",
   "metadata": {},
   "outputs": [
    {
     "data": {
      "text/plain": [
       "['s', 'y', 's', 't', 'o', 'l', 'i', 'c']"
      ]
     },
     "execution_count": 30,
     "metadata": {},
     "output_type": "execute_result"
    }
   ],
   "source": [
    "# As always, there is a way, if you're really determined.\n",
    "# We can break the string into characters\n",
    "reading_type = \"systolic\"\n",
    "chars = list(reading_type)\n",
    "chars"
   ]
  },
  {
   "cell_type": "code",
   "execution_count": 31,
   "id": "81513253",
   "metadata": {},
   "outputs": [],
   "source": [
    "chars[4] = 'z'"
   ]
  },
  {
   "cell_type": "code",
   "execution_count": 32,
   "id": "863b4838",
   "metadata": {},
   "outputs": [
    {
     "data": {
      "text/plain": [
       "['s', 'y', 's', 't', 'z', 'l', 'i', 'c']"
      ]
     },
     "execution_count": 32,
     "metadata": {},
     "output_type": "execute_result"
    }
   ],
   "source": [
    "chars"
   ]
  },
  {
   "cell_type": "code",
   "execution_count": 33,
   "id": "64bfccc4",
   "metadata": {},
   "outputs": [],
   "source": [
    "reading_type = ''.join(chars)"
   ]
  },
  {
   "cell_type": "code",
   "execution_count": 34,
   "id": "1d0a2682",
   "metadata": {},
   "outputs": [
    {
     "data": {
      "text/plain": [
       "'systzlic'"
      ]
     },
     "execution_count": 34,
     "metadata": {},
     "output_type": "execute_result"
    }
   ],
   "source": [
    "reading_type"
   ]
  },
  {
   "cell_type": "code",
   "execution_count": null,
   "id": "61a6fda6",
   "metadata": {},
   "outputs": [],
   "source": []
  }
 ],
 "metadata": {
  "kernelspec": {
   "display_name": "Python 3 (ipykernel)",
   "language": "python",
   "name": "python3"
  },
  "language_info": {
   "codemirror_mode": {
    "name": "ipython",
    "version": 3
   },
   "file_extension": ".py",
   "mimetype": "text/x-python",
   "name": "python",
   "nbconvert_exporter": "python",
   "pygments_lexer": "ipython3",
   "version": "3.9.7"
  }
 },
 "nbformat": 4,
 "nbformat_minor": 5
}
