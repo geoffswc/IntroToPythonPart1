{
 "cells": [
  {
   "cell_type": "code",
   "execution_count": 1,
   "id": "a1198e02",
   "metadata": {},
   "outputs": [],
   "source": [
    "# Loops - How can I make a program do many things?"
   ]
  },
  {
   "cell_type": "code",
   "execution_count": 2,
   "id": "fefcc84c",
   "metadata": {},
   "outputs": [],
   "source": [
    "# Objectives\n",
    "#    Explain what for loops are normally used for.\n",
    "#    Trace the execution of a simple (unnested) loop and correctly state the values of variables in each iteration.\n",
    "#    Write for loops that use the Accumulator pattern to aggregate values."
   ]
  },
  {
   "cell_type": "code",
   "execution_count": 3,
   "id": "32a5f693",
   "metadata": {},
   "outputs": [],
   "source": [
    "systolic = [130, 120, 115, 125, 88, 118, 140, 160, 138, 110]"
   ]
  },
  {
   "cell_type": "code",
   "execution_count": 4,
   "id": "2a02e5ae",
   "metadata": {},
   "outputs": [],
   "source": [
    "# A for loop contains a collection (like a list), a loop variable, and a body\n",
    "# here, the collection is systolic\n",
    "# the loop variable is s\n",
    "# and the body is print(s)"
   ]
  },
  {
   "cell_type": "code",
   "execution_count": 5,
   "id": "9019a0ba",
   "metadata": {},
   "outputs": [
    {
     "name": "stdout",
     "output_type": "stream",
     "text": [
      "130\n",
      "120\n",
      "115\n",
      "125\n",
      "88\n",
      "118\n",
      "140\n",
      "160\n",
      "138\n",
      "110\n"
     ]
    }
   ],
   "source": [
    "for s in systolic:\n",
    "    print(s)"
   ]
  },
  {
   "cell_type": "code",
   "execution_count": 6,
   "id": "a6883141",
   "metadata": {},
   "outputs": [],
   "source": [
    "# the loop line must end with a colon :, and the body must be indented or it will be considered out of the loop.\n",
    "# a body can contain multiple lines. \n",
    "\n",
    "# here, both the systolic and adjustment are printed in each iteration of the loop"
   ]
  },
  {
   "cell_type": "code",
   "execution_count": 7,
   "id": "b012fae1",
   "metadata": {},
   "outputs": [
    {
     "name": "stdout",
     "output_type": "stream",
     "text": [
      "systolic 130\n",
      "adjustment 140\n",
      "\n",
      "systolic 120\n",
      "adjustment 130\n",
      "\n",
      "systolic 115\n",
      "adjustment 125\n",
      "\n",
      "systolic 125\n",
      "adjustment 135\n",
      "\n",
      "systolic 88\n",
      "adjustment 98\n",
      "\n",
      "systolic 118\n",
      "adjustment 128\n",
      "\n",
      "systolic 140\n",
      "adjustment 150\n",
      "\n",
      "systolic 160\n",
      "adjustment 170\n",
      "\n",
      "systolic 138\n",
      "adjustment 148\n",
      "\n",
      "systolic 110\n",
      "adjustment 120\n",
      "\n"
     ]
    }
   ],
   "source": [
    "for s in systolic:\n",
    "    print(\"systolic\", s)\n",
    "    adjustment = s + 10\n",
    "    print(\"adjustment\", adjustment)\n",
    "    print()"
   ]
  },
  {
   "cell_type": "code",
   "execution_count": 8,
   "id": "1b96bf04",
   "metadata": {},
   "outputs": [
    {
     "name": "stdout",
     "output_type": "stream",
     "text": [
      "systolic 130\n",
      "systolic 120\n",
      "systolic 115\n",
      "systolic 125\n",
      "systolic 88\n",
      "systolic 118\n",
      "systolic 140\n",
      "systolic 160\n",
      "systolic 138\n",
      "systolic 110\n",
      "adjustment 120\n",
      "\n"
     ]
    }
   ],
   "source": [
    "# here, the adjustment is outside of the loop body, so it isn't printed until the loop is completed. \n",
    "\n",
    "for s in systolic:\n",
    "    print(\"systolic\", s)\n",
    "    adjustment = s + 10\n",
    "\n",
    "print(\"adjustment\", adjustment)\n",
    "print()"
   ]
  },
  {
   "cell_type": "code",
   "execution_count": 9,
   "id": "ba01ad41",
   "metadata": {},
   "outputs": [],
   "source": [
    "# exercise:\n",
    "# create a list for diastolic and print each entry, then each entry adjusted up by 5"
   ]
  },
  {
   "cell_type": "code",
   "execution_count": 10,
   "id": "dd3ff3bc",
   "metadata": {},
   "outputs": [],
   "source": [
    "diastolic = [90, 80, 92, 82, 88, 78, 94, 102, 91, 75]"
   ]
  },
  {
   "cell_type": "code",
   "execution_count": 11,
   "id": "06ccbe7e",
   "metadata": {},
   "outputs": [
    {
     "name": "stdout",
     "output_type": "stream",
     "text": [
      "diastolic 90\n",
      "adjustment 100\n",
      "\n",
      "diastolic 80\n",
      "adjustment 90\n",
      "\n",
      "diastolic 92\n",
      "adjustment 102\n",
      "\n",
      "diastolic 82\n",
      "adjustment 92\n",
      "\n",
      "diastolic 88\n",
      "adjustment 98\n",
      "\n",
      "diastolic 78\n",
      "adjustment 88\n",
      "\n",
      "diastolic 94\n",
      "adjustment 104\n",
      "\n",
      "diastolic 102\n",
      "adjustment 112\n",
      "\n",
      "diastolic 91\n",
      "adjustment 101\n",
      "\n",
      "diastolic 75\n",
      "adjustment 85\n",
      "\n"
     ]
    }
   ],
   "source": [
    "for d in diastolic:\n",
    "    print(\"diastolic\", d)\n",
    "    adjustment = d + 10\n",
    "\n",
    "    print(\"adjustment\", adjustment)\n",
    "    print()"
   ]
  },
  {
   "cell_type": "code",
   "execution_count": 12,
   "id": "b4aa3b09",
   "metadata": {},
   "outputs": [],
   "source": [
    "# what's the average systolic or diastolic reading in these two lists?\n",
    "# the accumulator pattern turns multiple values into a single value"
   ]
  },
  {
   "cell_type": "code",
   "execution_count": 13,
   "id": "c4ee2bb8",
   "metadata": {},
   "outputs": [
    {
     "name": "stdout",
     "output_type": "stream",
     "text": [
      "130 130\n",
      "120 250\n",
      "115 365\n",
      "125 490\n",
      "88 578\n",
      "118 696\n",
      "140 836\n",
      "160 996\n",
      "138 1134\n",
      "110 1244\n",
      "total 1244\n",
      "averabe 124.4\n"
     ]
    }
   ],
   "source": [
    "# we start with a sum (total) of zero\n",
    "# then, we increment our total by the value of each element in the systolic list\n",
    "# finally, we can divide by the length of the list to get the average\n",
    "\n",
    "total = 0\n",
    "for s in systolic:\n",
    "    total = total + s\n",
    "    print(s, total)\n",
    "\n",
    "print('total', total)\n",
    "print('averabe', total/len(systolic))"
   ]
  },
  {
   "cell_type": "code",
   "execution_count": 14,
   "id": "60a16617",
   "metadata": {},
   "outputs": [],
   "source": [
    "# lists-loops-conditionals\n",
    "# lists, loops, and conditionals are often used together to analyze data"
   ]
  },
  {
   "cell_type": "code",
   "execution_count": 15,
   "id": "c5612b08",
   "metadata": {},
   "outputs": [],
   "source": [
    "# you might want to take a moment to review the workbook on conditionals. \n",
    "# let's apply conditionals to print only the systolic measurements above pre-hypertension threshold"
   ]
  },
  {
   "cell_type": "code",
   "execution_count": 16,
   "id": "58f24582",
   "metadata": {},
   "outputs": [
    {
     "name": "stdout",
     "output_type": "stream",
     "text": [
      "130\n",
      "125\n",
      "140\n",
      "160\n",
      "138\n"
     ]
    }
   ],
   "source": [
    "for s in systolic:\n",
    "    if s > 120:\n",
    "        print(s)"
   ]
  },
  {
   "cell_type": "code",
   "execution_count": 17,
   "id": "c7ff1cf4",
   "metadata": {},
   "outputs": [],
   "source": [
    "# what if you'd like to print out the systolic reading only when the diastolic is above a certain threshold?\n",
    "# in this case, you'd need to read values from two lists, rather than one.\n",
    "# how can you do this in a loop?"
   ]
  },
  {
   "cell_type": "code",
   "execution_count": 22,
   "id": "e00c5e06",
   "metadata": {},
   "outputs": [],
   "source": [
    "# one way (not the only way) is to iterate over a list by list position rather than value.\n",
    "# we can use the range() function to iterate over a sequence of values.\n",
    "# range(0,5) will produce a series of numbers ranging from 0 to, but not including, 5. \n",
    "# ie., range(0,5) will produce the sequence 0, 1, 2, 3, 4"
   ]
  },
  {
   "cell_type": "code",
   "execution_count": 23,
   "id": "53fc2e9e",
   "metadata": {},
   "outputs": [
    {
     "name": "stdout",
     "output_type": "stream",
     "text": [
      "0\n",
      "1\n",
      "2\n",
      "3\n",
      "4\n"
     ]
    }
   ],
   "source": [
    "for i in range(0,5):\n",
    "    print(i)"
   ]
  },
  {
   "cell_type": "code",
   "execution_count": 26,
   "id": "7af56216",
   "metadata": {},
   "outputs": [
    {
     "name": "stdout",
     "output_type": "stream",
     "text": [
      "115\n"
     ]
    }
   ],
   "source": [
    "# you can use this number to access the value of a list at a particular index\n",
    "# if i = 2, then systolic[i] will retrieve the value at index 2\n",
    "# remember to count from 0!\n",
    "i = 2\n",
    "print(systolic[i])"
   ]
  },
  {
   "cell_type": "code",
   "execution_count": 27,
   "id": "5e46120d",
   "metadata": {},
   "outputs": [
    {
     "name": "stdout",
     "output_type": "stream",
     "text": [
      "10\n"
     ]
    }
   ],
   "source": [
    "# applying this back to the loop, we can iterate from inxed zero to to the length of the list\n",
    "print(len(systolic))"
   ]
  },
  {
   "cell_type": "code",
   "execution_count": 28,
   "id": "2d3821f7",
   "metadata": {},
   "outputs": [
    {
     "name": "stdout",
     "output_type": "stream",
     "text": [
      "130\n",
      "120\n",
      "115\n",
      "125\n",
      "88\n",
      "118\n",
      "140\n",
      "160\n",
      "138\n",
      "110\n"
     ]
    }
   ],
   "source": [
    "for i in range(0,len(systolic)):\n",
    "    print(systolic[i])"
   ]
  },
  {
   "cell_type": "code",
   "execution_count": 29,
   "id": "0a61c755",
   "metadata": {},
   "outputs": [],
   "source": [
    "# we can use this to look up both systolic and diastolic readings.\n",
    "# note - we are assuming that two lists have the same number of readings, and that the systolic reading at one index\n",
    "# corresponds to the diastolic reading at the same index. "
   ]
  },
  {
   "cell_type": "code",
   "execution_count": 30,
   "id": "d1079120",
   "metadata": {},
   "outputs": [
    {
     "name": "stdout",
     "output_type": "stream",
     "text": [
      "0 systolic 130 diastolic 90\n",
      "1 systolic 120 diastolic 80\n",
      "2 systolic 115 diastolic 92\n",
      "3 systolic 125 diastolic 82\n",
      "4 systolic 88 diastolic 88\n",
      "5 systolic 118 diastolic 78\n",
      "6 systolic 140 diastolic 94\n",
      "7 systolic 160 diastolic 102\n",
      "8 systolic 138 diastolic 91\n",
      "9 systolic 110 diastolic 75\n"
     ]
    }
   ],
   "source": [
    "for i in range(0, len(systolic)):\n",
    "    print(i, 'systolic', systolic[i], 'diastolic', diastolic[i])"
   ]
  },
  {
   "cell_type": "code",
   "execution_count": 35,
   "id": "2eaf9093",
   "metadata": {},
   "outputs": [
    {
     "name": "stdout",
     "output_type": "stream",
     "text": [
      "2 systolic 115\n",
      "6 systolic 140\n",
      "7 systolic 160\n",
      "8 systolic 138\n"
     ]
    }
   ],
   "source": [
    "# let's combine this with a conditional now. \n",
    "# how would we print the systolic reading only when the diastolic reading is above 90?\n",
    "for i in range(0, len(systolic)):\n",
    "    if(diastolic[i] > 90):\n",
    "        print(i, 'systolic', systolic[i])"
   ]
  },
  {
   "cell_type": "code",
   "execution_count": 36,
   "id": "b2869af2",
   "metadata": {},
   "outputs": [],
   "source": [
    "# exercise: \n",
    "#    what is the average systolic reading when the diastolic is above 90.\n",
    "#    what is the average diastolic reading with the systolic is above 130?\n",
    "# hint - use the accumulator pattern with a conditional"
   ]
  },
  {
   "cell_type": "code",
   "execution_count": 40,
   "id": "847c6b3f",
   "metadata": {},
   "outputs": [
    {
     "name": "stdout",
     "output_type": "stream",
     "text": [
      "138.25\n",
      "95.66666666666667\n"
     ]
    }
   ],
   "source": [
    "total_systolic = 0\n",
    "total_diastolic = 0\n",
    "systolic_count = 0\n",
    "diastolic_count = 0\n",
    "\n",
    "for i in range(0, len(systolic)):\n",
    "    if(diastolic[i] > 90):\n",
    "        systolic_count += 1\n",
    "        total_systolic += systolic[i]\n",
    "    if(systolic[i] > 130):\n",
    "        diastolic_count += 1\n",
    "        total_diastolic += diastolic[i]\n",
    "\n",
    "print(total_systolic/systolic_count)\n",
    "print(total_diastolic/diastolic_count)"
   ]
  },
  {
   "cell_type": "code",
   "execution_count": 41,
   "id": "f7a6e0b0",
   "metadata": {},
   "outputs": [],
   "source": [
    "# exercise:\n",
    "#    Create a list that only holds the systolic readings when the diastolic is above 90\n",
    "# hint - create an empty list and append to it in the loop"
   ]
  },
  {
   "cell_type": "code",
   "execution_count": 42,
   "id": "71bc7f68",
   "metadata": {},
   "outputs": [
    {
     "name": "stdout",
     "output_type": "stream",
     "text": [
      "[115, 140, 160, 138]\n"
     ]
    }
   ],
   "source": [
    "dia_sys_over_90 = []\n",
    "for i in range(0, len(systolic)):\n",
    "    if(diastolic[i] > 90):\n",
    "        dia_sys_over_90.append(systolic[i])\n",
    "        \n",
    "print(dia_sys_over_90)"
   ]
  },
  {
   "cell_type": "code",
   "execution_count": null,
   "id": "9c21036a",
   "metadata": {},
   "outputs": [],
   "source": []
  }
 ],
 "metadata": {
  "kernelspec": {
   "display_name": "Python 3 (ipykernel)",
   "language": "python",
   "name": "python3"
  },
  "language_info": {
   "codemirror_mode": {
    "name": "ipython",
    "version": 3
   },
   "file_extension": ".py",
   "mimetype": "text/x-python",
   "name": "python",
   "nbconvert_exporter": "python",
   "pygments_lexer": "ipython3",
   "version": "3.9.7"
  }
 },
 "nbformat": 4,
 "nbformat_minor": 5
}
